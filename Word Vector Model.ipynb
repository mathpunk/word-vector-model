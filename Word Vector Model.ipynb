{
 "cells": [
  {
   "cell_type": "markdown",
   "metadata": {},
   "source": [
    "# Word Vector Spike\n",
    "\n",
    "Inspired by [Stop Using Word2Vec](http://multithreaded.stitchfix.com/blog/2017/10/18/stop-using-word2vec/), we attempt to find word similarity measurements from a corpus with statistics and vectors (rather than neural networks)."
   ]
  },
  {
   "cell_type": "markdown",
   "metadata": {},
   "source": [
    "%%markdown\n",
    "\n",
    "## Acquiring a Corpus\n",
    "\n",
    "Rob has a Twitter corpus he's been exploring in R. Let's try messing with it in Python.\n",
    "\n"
   ]
  },
  {
   "cell_type": "code",
   "execution_count": 14,
   "metadata": {},
   "outputs": [
    {
     "data": {
      "text/plain": [
       "str"
      ]
     },
     "execution_count": 14,
     "metadata": {},
     "output_type": "execute_result"
    }
   ],
   "source": [
    "english_news = \"data/en_US/en_US.news.txt\"\n",
    "import os\n",
    "\n",
    "news_file = open(english_news, 'r')\n",
    "data = news_file.read()\n",
    "\n",
    "type(data)"
   ]
  },
  {
   "cell_type": "code",
   "execution_count": 18,
   "metadata": {},
   "outputs": [
    {
     "name": "stdout",
     "output_type": "stream",
     "text": [
      "He wasn't home alone, apparently.\n",
      "The St. Louis plant had to close. It would die of old age. Workers had been making cars there since the onset of mass automotive production in the 1920s.\n",
      "WSU's plans quickly became a hot topic on local online sites. Though most people applauded plans for the new biomedical center, many deplored the potential loss of the building.\n",
      "The Alaimo Group of Mount Holly was up for a contract last fall to evaluate and suggest improvements to Trenton Water Works. But campaign finance records released this week show the two employees donated a total of $4,500 to the political action committee (PAC) Partners for Progress in early June. Partners for Progress reported it gave more than $10,000 in both direct and in-kind contributions to Mayor Tony Mack in the two weeks l\n"
     ]
    }
   ],
   "source": [
    "print(data[0:800])\n"
   ]
  },
  {
   "cell_type": "code",
   "execution_count": 21,
   "metadata": {},
   "outputs": [
    {
     "data": {
      "text/plain": [
       "1010245"
      ]
     },
     "execution_count": 21,
     "metadata": {},
     "output_type": "execute_result"
    }
   ],
   "source": [
    "lines = data.splitlines()\n",
    "len(lines)"
   ]
  },
  {
   "cell_type": "code",
   "execution_count": 23,
   "metadata": {},
   "outputs": [
    {
     "data": {
      "text/plain": [
       "[\"He wasn't home alone, apparently.\",\n",
       " 'The St. Louis plant had to close. It would die of old age. Workers had been making cars there since the onset of mass automotive production in the 1920s.',\n",
       " \"WSU's plans quickly became a hot topic on local online sites. Though most people applauded plans for the new biomedical center, many deplored the potential loss of the building.\",\n",
       " 'The Alaimo Group of Mount Holly was up for a contract last fall to evaluate and suggest improvements to Trenton Water Works. But campaign finance records released this week show the two employees donated a total of $4,500 to the political action committee (PAC) Partners for Progress in early June. Partners for Progress reported it gave more than $10,000 in both direct and in-kind contributions to Mayor Tony Mack in the two weeks leading up to his victory in the mayoral runoff election June 15.',\n",
       " \"And when it's often difficult to predict a law's impact, legislators should think twice before carrying any bill. Is it absolutely necessary? Is it an issue serious enough to merit their attention? Will it definitely not make the situation worse?\",\n",
       " 'There was a certain amount of scoffing going around a few years ago when the NFL decided to move the draft from the weekend to prime time -- eventually splitting off the first round to a separate day.',\n",
       " '14915 Charlevoix, Detroit',\n",
       " '\"It’s just another in a long line of failed attempts to subsidize Atlantic City,\" said Americans for Prosperity New Jersey Director Steve Lonegan, a conservative who lost to Christie in the 2009 GOP primary. \"The Revel Casino hit the jackpot here at government expense.\"',\n",
       " 'But time and again in the report, Sullivan called on CPS to correct problems to improve employee accountability, saying, for example, that measures to keep employees from submitting fraudulent invoices or to block employees from accessing inappropriate websites were not in place.',\n",
       " '\\x93I was just trying to hit it hard someplace,\\x94 said Rizzo, who hit the pitch to the opposite field in left-center. \\x93I\\x92m just up there trying to make good contact.\\x94']"
      ]
     },
     "execution_count": 23,
     "metadata": {},
     "output_type": "execute_result"
    }
   ],
   "source": [
    "lines[0:10]"
   ]
  },
  {
   "cell_type": "code",
   "execution_count": 26,
   "metadata": {},
   "outputs": [
    {
     "data": {
      "text/plain": [
       "'The St. Louis plant had to close. It would die of old age. Workers had been making cars there since the onset of mass automotive production in the 1920s.'"
      ]
     },
     "execution_count": 26,
     "metadata": {},
     "output_type": "execute_result"
    }
   ],
   "source": [
    "document = lines[1]\n",
    "document"
   ]
  },
  {
   "cell_type": "code",
   "execution_count": 51,
   "metadata": {
    "scrolled": false
   },
   "outputs": [
    {
     "data": {
      "text/plain": [
       "['the',\n",
       " 'st',\n",
       " 'louis',\n",
       " 'plant',\n",
       " 'had',\n",
       " 'to',\n",
       " 'close',\n",
       " 'it',\n",
       " 'would',\n",
       " 'die',\n",
       " 'of',\n",
       " 'old',\n",
       " 'age',\n",
       " 'workers',\n",
       " 'had',\n",
       " 'been',\n",
       " 'making',\n",
       " 'cars',\n",
       " 'there',\n",
       " 'since',\n",
       " 'the',\n",
       " 'onset',\n",
       " 'of',\n",
       " 'mass',\n",
       " 'automotive',\n",
       " 'production',\n",
       " 'in',\n",
       " 'the',\n",
       " '1920s']"
      ]
     },
     "execution_count": 51,
     "metadata": {},
     "output_type": "execute_result"
    }
   ],
   "source": [
    "import string\n",
    "\n",
    "def normalize(document):\n",
    "    tokens = document.split(\" \")\n",
    "    translator = str.maketrans('', '', string.punctuation)\n",
    "    return [word.lower().translate(translator) for word in tokens]\n"
   ]
  },
  {
   "cell_type": "code",
   "execution_count": 52,
   "metadata": {},
   "outputs": [
    {
     "data": {
      "text/plain": [
       "{'1920s': 0.034482758620689655,\n",
       " 'age': 0.034482758620689655,\n",
       " 'automotive': 0.034482758620689655,\n",
       " 'been': 0.034482758620689655,\n",
       " 'cars': 0.034482758620689655,\n",
       " 'close': 0.034482758620689655,\n",
       " 'die': 0.034482758620689655,\n",
       " 'had': 0.06896551724137931,\n",
       " 'in': 0.034482758620689655,\n",
       " 'it': 0.034482758620689655,\n",
       " 'louis': 0.034482758620689655,\n",
       " 'making': 0.034482758620689655,\n",
       " 'mass': 0.034482758620689655,\n",
       " 'of': 0.06896551724137931,\n",
       " 'old': 0.034482758620689655,\n",
       " 'onset': 0.034482758620689655,\n",
       " 'plant': 0.034482758620689655,\n",
       " 'production': 0.034482758620689655,\n",
       " 'since': 0.034482758620689655,\n",
       " 'st': 0.034482758620689655,\n",
       " 'the': 0.10344827586206896,\n",
       " 'there': 0.034482758620689655,\n",
       " 'to': 0.034482758620689655,\n",
       " 'workers': 0.034482758620689655,\n",
       " 'would': 0.034482758620689655}"
      ]
     },
     "execution_count": 52,
     "metadata": {},
     "output_type": "execute_result"
    }
   ],
   "source": [
    "from collections import Counter\n",
    "\n",
    "def unigram_probabilities(document):\n",
    "    words = normalize(document) \n",
    "    counts = Counter(words)\n",
    "    probabilities = {}\n",
    "    for word, count in counts.items():\n",
    "        probabilities[word] = count/len(words)\n",
    "    return probabilities\n",
    "    \n",
    "unigram_probabilities(document)"
   ]
  },
  {
   "cell_type": "code",
   "execution_count": 47,
   "metadata": {},
   "outputs": [
    {
     "data": {
      "text/plain": [
       "0.9999999999999994"
      ]
     },
     "execution_count": 47,
     "metadata": {},
     "output_type": "execute_result"
    }
   ],
   "source": [
    "sum(get_probability(document).values())"
   ]
  },
  {
   "cell_type": "code",
   "execution_count": 65,
   "metadata": {
    "collapsed": true
   },
   "outputs": [],
   "source": [
    "WINDOW_RADIUS = 3"
   ]
  },
  {
   "cell_type": "code",
   "execution_count": 78,
   "metadata": {},
   "outputs": [
    {
     "name": "stdout",
     "output_type": "stream",
     "text": [
      "['the', 'st', 'louis']\n"
     ]
    }
   ],
   "source": [
    "skipgram_counts = {}\n",
    "input_word = words(document)[0]\n",
    "thisgram_counts = skipgram_counts.get(input_word, {})\n",
    "\n",
    "window = normalize(document)[0:WINDOW_RADIUS]\n",
    "for word in del window[]:\n",
    "    thisgram_counts[word] = thisgram_counts.get(word, 0) + 1\n",
    "    \n",
    "print(window)\n",
    "skipgram_counts[input_word] = thisgram_counts\n",
    "\n",
    "\n",
    "\n",
    "    "
   ]
  },
  {
   "cell_type": "code",
   "execution_count": 80,
   "metadata": {
    "collapsed": true
   },
   "outputs": [],
   "source": [
    "normalized = normalize(document)"
   ]
  },
  {
   "cell_type": "code",
   "execution_count": 88,
   "metadata": {},
   "outputs": [
    {
     "data": {
      "text/plain": [
       "{'the': {'louis': 4, 'st': 4, 'the': 1}}"
      ]
     },
     "execution_count": 88,
     "metadata": {},
     "output_type": "execute_result"
    }
   ],
   "source": [
    "skipgram_counts = {}\n",
    "input_index = 0\n",
    "left_index = max(0, input_index - WINDOW_RADIUS)\n",
    "right_index = min(input_index + WINDOW_RADIUS, len(normalized))\n",
    "center_index = input_index - left_index\n",
    "\n",
    "window = normalized[left_index:right_index]\n",
    "del window[center_index]\n",
    "\n",
    "for word in window:\n",
    "    thisgram_counts[word] = thisgram_counts.get(word, 0) + 1\n",
    "    \n",
    "skipgram_counts[input_word] = thisgram_counts\n",
    "\n",
    "skipgram_counts"
   ]
  },
  {
   "cell_type": "code",
   "execution_count": 91,
   "metadata": {},
   "outputs": [
    {
     "data": {
      "text/plain": [
       "{}"
      ]
     },
     "execution_count": 91,
     "metadata": {},
     "output_type": "execute_result"
    }
   ],
   "source": [
    "skipgram_counts = {}\n",
    "skipgram_counts"
   ]
  },
  {
   "cell_type": "code",
   "execution_count": 92,
   "metadata": {},
   "outputs": [
    {
     "data": {
      "text/plain": [
       "{'the': {'louis': 6, 'st': 6, 'the': 1}}"
      ]
     },
     "execution_count": 92,
     "metadata": {},
     "output_type": "execute_result"
    }
   ],
   "source": [
    "skipgram_counts = {}\n",
    "input_index = 0\n",
    "left_index = max(0, input_index - WINDOW_RADIUS)\n",
    "right_index = min(input_index + WINDOW_RADIUS, len(normalized))\n",
    "center_index = input_index - left_index\n",
    "\n",
    "window = normalized[left_index:right_index]\n",
    "del window[center_index]\n",
    "\n",
    "for word in window:\n",
    "    thisgram_counts[word] = thisgram_counts.get(word, 0) + 1\n",
    "    \n",
    "skipgram_counts[input_word] = thisgram_counts\n",
    "\n",
    "skipgram_counts"
   ]
  },
  {
   "cell_type": "code",
   "execution_count": 97,
   "metadata": {
    "collapsed": true
   },
   "outputs": [],
   "source": [
    "def compute_skipgrams(document):\n",
    "    skipgram_counts = {}\n",
    "    thisgram_counts = {}\n",
    "    input_index = 0\n",
    "    left_index = max(0, input_index - WINDOW_RADIUS)\n",
    "    right_index = min(input_index + WINDOW_RADIUS, len(normalized))\n",
    "    center_index = input_index - left_index\n",
    "\n",
    "    window = normalized[left_index:right_index]\n",
    "    del window[center_index]\n",
    "\n",
    "    for word in window:\n",
    "        thisgram_counts[word] = thisgram_counts.get(word, 0) + 1\n",
    "    skipgram_counts[input_word] = thisgram_counts\n",
    "    return skipgram_counts\n",
    "\n",
    "\n",
    "    "
   ]
  },
  {
   "cell_type": "code",
   "execution_count": 98,
   "metadata": {},
   "outputs": [
    {
     "data": {
      "text/plain": [
       "{'the': {'louis': 1, 'st': 1}}"
      ]
     },
     "execution_count": 98,
     "metadata": {},
     "output_type": "execute_result"
    }
   ],
   "source": [
    "compute_skipgrams(document)"
   ]
  }
 ],
 "metadata": {
  "kernelspec": {
   "display_name": "Python 3",
   "language": "python",
   "name": "python3"
  },
  "language_info": {
   "codemirror_mode": {
    "name": "ipython",
    "version": 3
   },
   "file_extension": ".py",
   "mimetype": "text/x-python",
   "name": "python",
   "nbconvert_exporter": "python",
   "pygments_lexer": "ipython3",
   "version": "3.6.3"
  }
 },
 "nbformat": 4,
 "nbformat_minor": 2
}
